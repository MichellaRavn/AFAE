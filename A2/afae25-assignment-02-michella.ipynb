{
 "cells": [
  {
   "attachments": {},
   "cell_type": "markdown",
   "metadata": {},
   "source": [
    "# Algorithmic Fairness, Accountability, and Ethics, Spring 2025\n",
    "\n",
    "## Mandatory Assignment 2\n",
    "\n",
    "Please use the following code to prepare the dataset.\n",
    " "
   ]
  },
  {
   "cell_type": "code",
   "execution_count": 7,
   "metadata": {},
   "outputs": [],
   "source": [
    "from folktables.acs import adult_filter\n",
    "from folktables import ACSDataSource\n",
    "import numpy as np\n",
    "import pandas as pd\n",
    "from sklearn.model_selection import train_test_split\n",
    "from scipy.optimize import fmin_tnc\n",
    "import pandas as pd\n",
    "\n",
    "data_source = ACSDataSource(survey_year='2018', horizon='1-Year', survey='person')\n",
    "acs_data = data_source.get_data(states=[\"CA\"], download=True)\n",
    "\n",
    "feature_names = ['AGEP', # Age\n",
    "                 \"CIT\", # Citizenship status\n",
    "                 'COW', # Class of worker\n",
    "                 \"ENG\", # Ability to speak English\n",
    "                 'SCHL', # Educational attainment\n",
    "                 'MAR', # Marital status\n",
    "                 \"HINS1\", # Insurance through a current or former employer or union\n",
    "                 \"HINS2\", # Insurance purchased directly from an insurance company\n",
    "                 \"HINS4\", # Medicaid\n",
    "                 \"RAC1P\", # Recoded detailed race code\n",
    "                 'SEX']\n",
    "\n",
    "target_name = \"PINCP\" # Total person's income\n",
    "\n",
    "def data_processing(data, features, target_name:str, threshold: float = 35000):\n",
    "    df = data\n",
    "    ### Adult Filter (STARTS) (from Foltktables)\n",
    "    df = df[~df[\"SEX\"].isnull()]\n",
    "    df = df[~df[\"RAC1P\"].isnull()]\n",
    "    df = df[df['AGEP'] > 16]\n",
    "    df = df[df['PINCP'] > 100]\n",
    "    df = df[df['WKHP'] > 0]\n",
    "    df = df[df['PWGTP'] >= 1]\n",
    "    ### Adult Filter (ENDS)\n",
    "    ### Groups of interest\n",
    "    sex = df[\"SEX\"].values\n",
    "    ### Target\n",
    "    df[\"target\"] = df[target_name] > threshold\n",
    "    target = df[\"target\"].values\n",
    "    df = df[features + [\"target\", target_name]] ##we want to keep df before one_hot encoding to make Bias Analysis\n",
    "    df_processed = df[features].copy()\n",
    "    cols = [ \"HINS1\", \"HINS2\", \"HINS4\", \"CIT\", \"COW\", \"SCHL\", \"MAR\", \"SEX\", \"RAC1P\"]\n",
    "    df_processed = pd.get_dummies(df_processed, prefix=None, prefix_sep='_', dummy_na=False, columns=cols, drop_first=True)\n",
    "    df_processed = pd.get_dummies(df_processed, prefix=None, prefix_sep='_', dummy_na=True, columns=[\"ENG\"], drop_first=True)\n",
    "    return df_processed, df, target, sex\n",
    "\n",
    "data, data_original, target, group = data_processing(acs_data, feature_names, target_name)\n",
    "\n",
    "X_train, X_test, y_train, y_test, group_train, group_test = train_test_split(\n",
    "    data, target, group, test_size=0.2, random_state=0)"
   ]
  },
  {
   "cell_type": "markdown",
   "metadata": {},
   "source": [
    "## Logistic regression model without any fairness"
   ]
  },
  {
   "cell_type": "code",
   "execution_count": null,
   "metadata": {},
   "outputs": [
    {
     "name": "stdout",
     "output_type": "stream",
     "text": [
      "Optimized beta: [ 1.43690055e-02 -3.21315027e-01 -9.34715434e-02  7.79466966e-02\n",
      " -1.98150080e-04  2.27901411e-04  1.06861867e-03 -9.75289035e-02\n",
      "  1.06535371e-02  2.25413383e-02  1.39631833e-02  1.25888324e-02\n",
      " -5.33917889e-02  1.66002872e-02 -4.17488081e-03 -2.80408705e-04\n",
      " -2.87124947e-04 -1.08651799e-03 -2.43964801e-03 -4.82361825e-03\n",
      " -2.95793026e-03 -4.52203117e-03 -2.50498689e-02 -3.41349125e-03\n",
      " -8.89900190e-03 -1.46969391e-02 -1.06738462e-02 -2.41576660e-02\n",
      " -2.55998214e-02 -1.24477732e-01 -1.24163203e-02 -3.38826661e-02\n",
      " -7.58127324e-02 -8.37025231e-03  1.17942301e-01  1.00865999e-01\n",
      "  3.41123646e-02  2.50675110e-02 -4.15113384e-03  5.22849494e-03\n",
      " -1.08138533e-02 -2.33878161e-01 -1.63206839e-01 -1.60089936e-02\n",
      " -3.86488612e-03 -3.58295754e-05 -1.79205787e-03  1.48117047e-02\n",
      " -9.62856806e-04 -8.60347992e-02 -1.27995979e-02 -4.05833022e-02\n",
      " -7.01432521e-02 -3.42981463e-02  4.97098604e-02]\n",
      "358945    0.630672\n",
      "275788    0.640754\n",
      "141517    0.295973\n",
      "66729     0.873194\n",
      "268579   -0.014754\n",
      "            ...   \n",
      "296811    0.113492\n",
      "343651    0.592419\n",
      "231468    0.795201\n",
      "337479    0.832936\n",
      "89988     0.516409\n",
      "Length: 156532, dtype: float64\n"
     ]
    },
    {
     "ename": "ValueError",
     "evalue": "operands could not be broadcast together with shapes (156532,) (39133,) ",
     "output_type": "error",
     "traceback": [
      "\u001b[1;31m---------------------------------------------------------------------------\u001b[0m",
      "\u001b[1;31mValueError\u001b[0m                                Traceback (most recent call last)",
      "Cell \u001b[1;32mIn[11], line 46\u001b[0m\n\u001b[0;32m     43\u001b[0m prediction_scoretest \u001b[38;5;241m=\u001b[39m X_train \u001b[38;5;241m@\u001b[39m optimal_beta\n\u001b[0;32m     44\u001b[0m \u001b[38;5;28mprint\u001b[39m(prediction_scoretest)\n\u001b[1;32m---> 46\u001b[0m predictions, accuracy \u001b[38;5;241m=\u001b[39m \u001b[43mevaluate_error\u001b[49m\u001b[43m(\u001b[49m\u001b[43mprediction_scoretest\u001b[49m\u001b[43m,\u001b[49m\u001b[43m \u001b[49m\u001b[43my_test\u001b[49m\u001b[43m)\u001b[49m\n\u001b[0;32m     47\u001b[0m \u001b[38;5;28mprint\u001b[39m(\u001b[38;5;124m\"\u001b[39m\u001b[38;5;124mthe accuracy is:\u001b[39m\u001b[38;5;124m\"\u001b[39m, accuracy)\n",
      "Cell \u001b[1;32mIn[11], line 29\u001b[0m, in \u001b[0;36mevaluate_error\u001b[1;34m(prediction_score, labels_)\u001b[0m\n\u001b[0;32m     27\u001b[0m prediction_score[prediction_score \u001b[38;5;241m<\u001b[39m\u001b[38;5;241m=\u001b[39m \u001b[38;5;241m0\u001b[39m] \u001b[38;5;241m=\u001b[39m \u001b[38;5;241m0\u001b[39m\n\u001b[0;32m     28\u001b[0m y_pred\u001b[38;5;241m=\u001b[39mprediction_score\n\u001b[1;32m---> 29\u001b[0m accuracy \u001b[38;5;241m=\u001b[39m \u001b[38;5;241m1\u001b[39m\u001b[38;5;241m-\u001b[39mnp\u001b[38;5;241m.\u001b[39msum(np\u001b[38;5;241m.\u001b[39mabs(\u001b[43mprediction_score\u001b[49m\u001b[43m \u001b[49m\u001b[38;5;241;43m-\u001b[39;49m\u001b[43m \u001b[49m\u001b[43mlabels_\u001b[49m)) \u001b[38;5;241m/\u001b[39m \u001b[38;5;28mfloat\u001b[39m(np\u001b[38;5;241m.\u001b[39msize(labels_))\n\u001b[0;32m     30\u001b[0m \u001b[38;5;28;01mreturn\u001b[39;00m y_pred, accuracy\n",
      "File \u001b[1;32mc:\\Users\\Bruger\\Desktop\\AFAE\\.venv\\Lib\\site-packages\\pandas\\core\\ops\\common.py:76\u001b[0m, in \u001b[0;36m_unpack_zerodim_and_defer.<locals>.new_method\u001b[1;34m(self, other)\u001b[0m\n\u001b[0;32m     72\u001b[0m             \u001b[38;5;28;01mreturn\u001b[39;00m \u001b[38;5;28mNotImplemented\u001b[39m\n\u001b[0;32m     74\u001b[0m other \u001b[38;5;241m=\u001b[39m item_from_zerodim(other)\n\u001b[1;32m---> 76\u001b[0m \u001b[38;5;28;01mreturn\u001b[39;00m \u001b[43mmethod\u001b[49m\u001b[43m(\u001b[49m\u001b[38;5;28;43mself\u001b[39;49m\u001b[43m,\u001b[49m\u001b[43m \u001b[49m\u001b[43mother\u001b[49m\u001b[43m)\u001b[49m\n",
      "File \u001b[1;32mc:\\Users\\Bruger\\Desktop\\AFAE\\.venv\\Lib\\site-packages\\pandas\\core\\arraylike.py:194\u001b[0m, in \u001b[0;36mOpsMixin.__sub__\u001b[1;34m(self, other)\u001b[0m\n\u001b[0;32m    192\u001b[0m \u001b[38;5;129m@unpack_zerodim_and_defer\u001b[39m(\u001b[38;5;124m\"\u001b[39m\u001b[38;5;124m__sub__\u001b[39m\u001b[38;5;124m\"\u001b[39m)\n\u001b[0;32m    193\u001b[0m \u001b[38;5;28;01mdef\u001b[39;00m\u001b[38;5;250m \u001b[39m\u001b[38;5;21m__sub__\u001b[39m(\u001b[38;5;28mself\u001b[39m, other):\n\u001b[1;32m--> 194\u001b[0m     \u001b[38;5;28;01mreturn\u001b[39;00m \u001b[38;5;28;43mself\u001b[39;49m\u001b[38;5;241;43m.\u001b[39;49m\u001b[43m_arith_method\u001b[49m\u001b[43m(\u001b[49m\u001b[43mother\u001b[49m\u001b[43m,\u001b[49m\u001b[43m \u001b[49m\u001b[43moperator\u001b[49m\u001b[38;5;241;43m.\u001b[39;49m\u001b[43msub\u001b[49m\u001b[43m)\u001b[49m\n",
      "File \u001b[1;32mc:\\Users\\Bruger\\Desktop\\AFAE\\.venv\\Lib\\site-packages\\pandas\\core\\series.py:6135\u001b[0m, in \u001b[0;36mSeries._arith_method\u001b[1;34m(self, other, op)\u001b[0m\n\u001b[0;32m   6133\u001b[0m \u001b[38;5;28;01mdef\u001b[39;00m\u001b[38;5;250m \u001b[39m\u001b[38;5;21m_arith_method\u001b[39m(\u001b[38;5;28mself\u001b[39m, other, op):\n\u001b[0;32m   6134\u001b[0m     \u001b[38;5;28mself\u001b[39m, other \u001b[38;5;241m=\u001b[39m \u001b[38;5;28mself\u001b[39m\u001b[38;5;241m.\u001b[39m_align_for_op(other)\n\u001b[1;32m-> 6135\u001b[0m     \u001b[38;5;28;01mreturn\u001b[39;00m \u001b[43mbase\u001b[49m\u001b[38;5;241;43m.\u001b[39;49m\u001b[43mIndexOpsMixin\u001b[49m\u001b[38;5;241;43m.\u001b[39;49m\u001b[43m_arith_method\u001b[49m\u001b[43m(\u001b[49m\u001b[38;5;28;43mself\u001b[39;49m\u001b[43m,\u001b[49m\u001b[43m \u001b[49m\u001b[43mother\u001b[49m\u001b[43m,\u001b[49m\u001b[43m \u001b[49m\u001b[43mop\u001b[49m\u001b[43m)\u001b[49m\n",
      "File \u001b[1;32mc:\\Users\\Bruger\\Desktop\\AFAE\\.venv\\Lib\\site-packages\\pandas\\core\\base.py:1382\u001b[0m, in \u001b[0;36mIndexOpsMixin._arith_method\u001b[1;34m(self, other, op)\u001b[0m\n\u001b[0;32m   1379\u001b[0m     rvalues \u001b[38;5;241m=\u001b[39m np\u001b[38;5;241m.\u001b[39marange(rvalues\u001b[38;5;241m.\u001b[39mstart, rvalues\u001b[38;5;241m.\u001b[39mstop, rvalues\u001b[38;5;241m.\u001b[39mstep)\n\u001b[0;32m   1381\u001b[0m \u001b[38;5;28;01mwith\u001b[39;00m np\u001b[38;5;241m.\u001b[39merrstate(\u001b[38;5;28mall\u001b[39m\u001b[38;5;241m=\u001b[39m\u001b[38;5;124m\"\u001b[39m\u001b[38;5;124mignore\u001b[39m\u001b[38;5;124m\"\u001b[39m):\n\u001b[1;32m-> 1382\u001b[0m     result \u001b[38;5;241m=\u001b[39m \u001b[43mops\u001b[49m\u001b[38;5;241;43m.\u001b[39;49m\u001b[43marithmetic_op\u001b[49m\u001b[43m(\u001b[49m\u001b[43mlvalues\u001b[49m\u001b[43m,\u001b[49m\u001b[43m \u001b[49m\u001b[43mrvalues\u001b[49m\u001b[43m,\u001b[49m\u001b[43m \u001b[49m\u001b[43mop\u001b[49m\u001b[43m)\u001b[49m\n\u001b[0;32m   1384\u001b[0m \u001b[38;5;28;01mreturn\u001b[39;00m \u001b[38;5;28mself\u001b[39m\u001b[38;5;241m.\u001b[39m_construct_result(result, name\u001b[38;5;241m=\u001b[39mres_name)\n",
      "File \u001b[1;32mc:\\Users\\Bruger\\Desktop\\AFAE\\.venv\\Lib\\site-packages\\pandas\\core\\ops\\array_ops.py:283\u001b[0m, in \u001b[0;36marithmetic_op\u001b[1;34m(left, right, op)\u001b[0m\n\u001b[0;32m    279\u001b[0m     _bool_arith_check(op, left, right)  \u001b[38;5;66;03m# type: ignore[arg-type]\u001b[39;00m\n\u001b[0;32m    281\u001b[0m     \u001b[38;5;66;03m# error: Argument 1 to \"_na_arithmetic_op\" has incompatible type\u001b[39;00m\n\u001b[0;32m    282\u001b[0m     \u001b[38;5;66;03m# \"Union[ExtensionArray, ndarray[Any, Any]]\"; expected \"ndarray[Any, Any]\"\u001b[39;00m\n\u001b[1;32m--> 283\u001b[0m     res_values \u001b[38;5;241m=\u001b[39m \u001b[43m_na_arithmetic_op\u001b[49m\u001b[43m(\u001b[49m\u001b[43mleft\u001b[49m\u001b[43m,\u001b[49m\u001b[43m \u001b[49m\u001b[43mright\u001b[49m\u001b[43m,\u001b[49m\u001b[43m \u001b[49m\u001b[43mop\u001b[49m\u001b[43m)\u001b[49m  \u001b[38;5;66;03m# type: ignore[arg-type]\u001b[39;00m\n\u001b[0;32m    285\u001b[0m \u001b[38;5;28;01mreturn\u001b[39;00m res_values\n",
      "File \u001b[1;32mc:\\Users\\Bruger\\Desktop\\AFAE\\.venv\\Lib\\site-packages\\pandas\\core\\ops\\array_ops.py:218\u001b[0m, in \u001b[0;36m_na_arithmetic_op\u001b[1;34m(left, right, op, is_cmp)\u001b[0m\n\u001b[0;32m    215\u001b[0m     func \u001b[38;5;241m=\u001b[39m partial(expressions\u001b[38;5;241m.\u001b[39mevaluate, op)\n\u001b[0;32m    217\u001b[0m \u001b[38;5;28;01mtry\u001b[39;00m:\n\u001b[1;32m--> 218\u001b[0m     result \u001b[38;5;241m=\u001b[39m \u001b[43mfunc\u001b[49m\u001b[43m(\u001b[49m\u001b[43mleft\u001b[49m\u001b[43m,\u001b[49m\u001b[43m \u001b[49m\u001b[43mright\u001b[49m\u001b[43m)\u001b[49m\n\u001b[0;32m    219\u001b[0m \u001b[38;5;28;01mexcept\u001b[39;00m \u001b[38;5;167;01mTypeError\u001b[39;00m:\n\u001b[0;32m    220\u001b[0m     \u001b[38;5;28;01mif\u001b[39;00m \u001b[38;5;129;01mnot\u001b[39;00m is_cmp \u001b[38;5;129;01mand\u001b[39;00m (\n\u001b[0;32m    221\u001b[0m         left\u001b[38;5;241m.\u001b[39mdtype \u001b[38;5;241m==\u001b[39m \u001b[38;5;28mobject\u001b[39m \u001b[38;5;129;01mor\u001b[39;00m \u001b[38;5;28mgetattr\u001b[39m(right, \u001b[38;5;124m\"\u001b[39m\u001b[38;5;124mdtype\u001b[39m\u001b[38;5;124m\"\u001b[39m, \u001b[38;5;28;01mNone\u001b[39;00m) \u001b[38;5;241m==\u001b[39m \u001b[38;5;28mobject\u001b[39m\n\u001b[0;32m    222\u001b[0m     ):\n\u001b[1;32m   (...)\u001b[0m\n\u001b[0;32m    225\u001b[0m         \u001b[38;5;66;03m# Don't do this for comparisons, as that will handle complex numbers\u001b[39;00m\n\u001b[0;32m    226\u001b[0m         \u001b[38;5;66;03m#  incorrectly, see GH#32047\u001b[39;00m\n",
      "File \u001b[1;32mc:\\Users\\Bruger\\Desktop\\AFAE\\.venv\\Lib\\site-packages\\pandas\\core\\computation\\expressions.py:242\u001b[0m, in \u001b[0;36mevaluate\u001b[1;34m(op, a, b, use_numexpr)\u001b[0m\n\u001b[0;32m    239\u001b[0m \u001b[38;5;28;01mif\u001b[39;00m op_str \u001b[38;5;129;01mis\u001b[39;00m \u001b[38;5;129;01mnot\u001b[39;00m \u001b[38;5;28;01mNone\u001b[39;00m:\n\u001b[0;32m    240\u001b[0m     \u001b[38;5;28;01mif\u001b[39;00m use_numexpr:\n\u001b[0;32m    241\u001b[0m         \u001b[38;5;66;03m# error: \"None\" not callable\u001b[39;00m\n\u001b[1;32m--> 242\u001b[0m         \u001b[38;5;28;01mreturn\u001b[39;00m \u001b[43m_evaluate\u001b[49m\u001b[43m(\u001b[49m\u001b[43mop\u001b[49m\u001b[43m,\u001b[49m\u001b[43m \u001b[49m\u001b[43mop_str\u001b[49m\u001b[43m,\u001b[49m\u001b[43m \u001b[49m\u001b[43ma\u001b[49m\u001b[43m,\u001b[49m\u001b[43m \u001b[49m\u001b[43mb\u001b[49m\u001b[43m)\u001b[49m  \u001b[38;5;66;03m# type: ignore[misc]\u001b[39;00m\n\u001b[0;32m    243\u001b[0m \u001b[38;5;28;01mreturn\u001b[39;00m _evaluate_standard(op, op_str, a, b)\n",
      "File \u001b[1;32mc:\\Users\\Bruger\\Desktop\\AFAE\\.venv\\Lib\\site-packages\\pandas\\core\\computation\\expressions.py:73\u001b[0m, in \u001b[0;36m_evaluate_standard\u001b[1;34m(op, op_str, a, b)\u001b[0m\n\u001b[0;32m     71\u001b[0m \u001b[38;5;28;01mif\u001b[39;00m _TEST_MODE:\n\u001b[0;32m     72\u001b[0m     _store_test_result(\u001b[38;5;28;01mFalse\u001b[39;00m)\n\u001b[1;32m---> 73\u001b[0m \u001b[38;5;28;01mreturn\u001b[39;00m \u001b[43mop\u001b[49m\u001b[43m(\u001b[49m\u001b[43ma\u001b[49m\u001b[43m,\u001b[49m\u001b[43m \u001b[49m\u001b[43mb\u001b[49m\u001b[43m)\u001b[49m\n",
      "\u001b[1;31mValueError\u001b[0m: operands could not be broadcast together with shapes (156532,) (39133,) "
     ]
    }
   ],
   "source": [
    "# Sigmoid function\n",
    "def sigmoid(beta, X):\n",
    "    return 1/(1+np.exp(-(X @ beta)))\n",
    "\n",
    "# Logistic loss \n",
    "def logistic_loss(beta, X, y, lambda_, gamma_):\n",
    "    m = len(y)\n",
    "    g = sigmoid(beta, X)\n",
    "    return 1/m* np.sum(-y * np.log(g) - (1-y) * np.log(1-g))\n",
    "\n",
    "# Objective function to minimiza\n",
    "def objective_function(beta, X, y, lambda_, gamma_):\n",
    "    lloss=logistic_loss(beta, X, y, lambda_,gamma_)\n",
    "    f=0 # not including any fairness constraint thus f=0\n",
    "    l2loss=np.sum(beta**2)\n",
    "    return lloss+gamma_*l2loss+lambda_*f\n",
    "\n",
    "# Function for the given f prime\n",
    "def fprime(beta, X, y, lambda_, gamma_):\n",
    "    m = len(y)\n",
    "    g = sigmoid(beta, X)\n",
    "    return 1/m * np.dot(X.T,(g-y))+2*gamma_*beta\n",
    "\n",
    "# The given evaluation error function\n",
    "def evaluate_error(prediction_score,labels_):\n",
    "    prediction_score[prediction_score > 0] = 1\n",
    "    prediction_score[prediction_score <= 0] = 0\n",
    "    y_pred=prediction_score\n",
    "    accuracy = 1-np.sum(np.abs(prediction_score - labels_)) / float(np.size(labels_))\n",
    "    return y_pred, accuracy\n",
    "\n",
    "# Initial values\n",
    "beta0 = np.zeros(X_train.shape[1])\n",
    "lambda1=1\n",
    "gamma1=0.1\n",
    "\n",
    "X_train=X_train.astype(float)\n",
    "y_train=y_train.astype(float)\n",
    "\n",
    "optimal_beta, nfeval, rc = fmin_tnc(func=objective_function,x0=beta0,fprime=fprime, args=(X_train,y_train, lambda1, gamma1), ftol=1e-5)\n",
    "print(\"Optimized beta:\", optimal_beta)\n",
    "\n",
    "prediction_scoretest = X_train @ optimal_beta\n",
    "print(prediction_scoretest)\n",
    "\n",
    "predictions, accuracy = evaluate_error(prediction_scoretest, y_test)\n",
    "print(\"the accuracy is:\", accuracy)\n"
   ]
  },
  {
   "cell_type": "code",
   "execution_count": 12,
   "metadata": {},
   "outputs": [
    {
     "name": "stdout",
     "output_type": "stream",
     "text": [
      "Estimated betas:\n",
      "      features    weight\n",
      "0        AGEP  0.014369\n",
      "1     HINS1_2 -0.321315\n",
      "2     HINS2_2 -0.093472\n",
      "3     HINS4_2  0.077947\n",
      "4       CIT_2 -0.000198\n",
      "5       CIT_3  0.000228\n",
      "6       CIT_4  0.001069\n",
      "7       CIT_5 -0.097529\n",
      "8     COW_2.0  0.010654\n",
      "9     COW_3.0  0.022541\n",
      "10    COW_4.0  0.013963\n",
      "11    COW_5.0  0.012589\n",
      "12    COW_6.0 -0.053392\n",
      "13    COW_7.0  0.016600\n",
      "14    COW_8.0 -0.004175\n",
      "15   SCHL_2.0 -0.000280\n",
      "16   SCHL_3.0 -0.000287\n",
      "17   SCHL_4.0 -0.001087\n",
      "18   SCHL_5.0 -0.002440\n",
      "19   SCHL_6.0 -0.004824\n",
      "20   SCHL_7.0 -0.002958\n",
      "21   SCHL_8.0 -0.004522\n",
      "22   SCHL_9.0 -0.025050\n",
      "23  SCHL_10.0 -0.003413\n",
      "24  SCHL_11.0 -0.008899\n",
      "25  SCHL_12.0 -0.014697\n",
      "26  SCHL_13.0 -0.010674\n",
      "27  SCHL_14.0 -0.024158\n",
      "28  SCHL_15.0 -0.025600\n",
      "29  SCHL_16.0 -0.124478\n",
      "30  SCHL_17.0 -0.012416\n",
      "31  SCHL_18.0 -0.033883\n",
      "32  SCHL_19.0 -0.075813\n",
      "33  SCHL_20.0 -0.008370\n",
      "34  SCHL_21.0  0.117942\n",
      "35  SCHL_22.0  0.100866\n",
      "36  SCHL_23.0  0.034112\n",
      "37  SCHL_24.0  0.025068\n",
      "38      MAR_2 -0.004151\n",
      "39      MAR_3  0.005228\n",
      "40      MAR_4 -0.010814\n",
      "41      MAR_5 -0.233878\n",
      "42      SEX_2 -0.163207\n",
      "43    RAC1P_2 -0.016009\n",
      "44    RAC1P_3 -0.003865\n",
      "45    RAC1P_4 -0.000036\n",
      "46    RAC1P_5 -0.001792\n",
      "47    RAC1P_6  0.014812\n",
      "48    RAC1P_7 -0.000963\n",
      "49    RAC1P_8 -0.086035\n",
      "50    RAC1P_9 -0.012800\n",
      "51    ENG_2.0 -0.040583\n",
      "52    ENG_3.0 -0.070143\n",
      "53    ENG_4.0 -0.034298\n",
      "54    ENG_nan  0.049710\n"
     ]
    }
   ],
   "source": [
    "d={'features': X_train.columns.tolist(), 'weight':optimal_beta}\n",
    "df = pd.DataFrame(data=d)\n",
    "print(\"Estimated betas:\\n\" ,df)"
   ]
  },
  {
   "cell_type": "markdown",
   "metadata": {},
   "source": [
    "## Logistic regression model SEX fairness "
   ]
  },
  {
   "cell_type": "markdown",
   "metadata": {},
   "source": [
    "## Logistic regression model RAC1P fairness"
   ]
  },
  {
   "cell_type": "code",
   "execution_count": null,
   "metadata": {},
   "outputs": [
    {
     "ename": "SyntaxError",
     "evalue": "invalid syntax (3354970551.py, line 1)",
     "output_type": "error",
     "traceback": [
      "\u001b[1;36m  Cell \u001b[1;32mIn[2], line 1\u001b[1;36m\u001b[0m\n\u001b[1;33m    Logistic regression model SEX fairness\u001b[0m\n\u001b[1;37m             ^\u001b[0m\n\u001b[1;31mSyntaxError\u001b[0m\u001b[1;31m:\u001b[0m invalid syntax\n"
     ]
    }
   ],
   "source": []
  }
 ],
 "metadata": {
  "kernelspec": {
   "display_name": ".venv",
   "language": "python",
   "name": "python3"
  },
  "language_info": {
   "codemirror_mode": {
    "name": "ipython",
    "version": 3
   },
   "file_extension": ".py",
   "mimetype": "text/x-python",
   "name": "python",
   "nbconvert_exporter": "python",
   "pygments_lexer": "ipython3",
   "version": "3.13.2"
  },
  "orig_nbformat": 4
 },
 "nbformat": 4,
 "nbformat_minor": 2
}
